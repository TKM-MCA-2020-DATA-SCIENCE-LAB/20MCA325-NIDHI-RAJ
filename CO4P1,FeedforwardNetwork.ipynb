{
  "nbformat": 4,
  "nbformat_minor": 0,
  "metadata": {
    "colab": {
      "name": "CO4P1,FeedforwardNetwork.ipynb",
      "provenance": [],
      "collapsed_sections": []
    },
    "kernelspec": {
      "name": "python3",
      "display_name": "Python 3"
    },
    "language_info": {
      "name": "python"
    }
  },
  "cells": [
    {
      "cell_type": "code",
      "execution_count": 1,
      "metadata": {
        "id": "2XM26b9uHHEz"
      },
      "outputs": [],
      "source": [
        "import keras\n",
        "from keras.datasets import mnist\n",
        "from keras.models import Sequential\n",
        "from keras.layers import Dense\n",
        "from tensorflow.keras.optimizers import SGD\n",
        "from matplotlib import pyplot as plt"
      ]
    },
    {
      "cell_type": "code",
      "source": [
        "(x_train,y_train),(x_valid,y_valid)=mnist.load_data()"
      ],
      "metadata": {
        "colab": {
          "base_uri": "https://localhost:8080/"
        },
        "id": "7LzcLztBHKAv",
        "outputId": "d044ade2-19c2-4616-ca28-b56f81dadd97"
      },
      "execution_count": 2,
      "outputs": [
        {
          "output_type": "stream",
          "name": "stdout",
          "text": [
            "Downloading data from https://storage.googleapis.com/tensorflow/tf-keras-datasets/mnist.npz\n",
            "11493376/11490434 [==============================] - 0s 0us/step\n",
            "11501568/11490434 [==============================] - 0s 0us/step\n"
          ]
        }
      ]
    },
    {
      "cell_type": "code",
      "source": [
        "type(x_train)"
      ],
      "metadata": {
        "colab": {
          "base_uri": "https://localhost:8080/"
        },
        "id": "R4uIuyrRHVmG",
        "outputId": "943531d1-1c32-4e92-8f12-61eb00d83413"
      },
      "execution_count": 3,
      "outputs": [
        {
          "output_type": "execute_result",
          "data": {
            "text/plain": [
              "numpy.ndarray"
            ]
          },
          "metadata": {},
          "execution_count": 3
        }
      ]
    },
    {
      "cell_type": "code",
      "source": [
        "plt.figure(figsize=(5,5))\n",
        "for k in range(20):\n",
        "  plt.subplot(10, 2,k+1)\n",
        "  plt.imshow(x_train[k],cmap='Greys')\n",
        "  plt.axis('off')\n",
        "plt.show()\n"
      ],
      "metadata": {
        "colab": {
          "base_uri": "https://localhost:8080/",
          "height": 303
        },
        "id": "dUOzrduMHaOO",
        "outputId": "efd14531-2555-462f-f477-4d23dc720b88"
      },
      "execution_count": 4,
      "outputs": [
        {
          "output_type": "display_data",
          "data": {
            "image/png": "[encoded data removed]",
            "text/plain": [
              "<Figure size 360x360 with 20 Axes>"
            ]
          },
          "metadata": {
            "needs_background": "light"
          }
        }
      ]
    },
    {
      "cell_type": "code",
      "source": [
        "plt.imshow(x_valid[0],cmap='Greys')"
      ],
      "metadata": {
        "colab": {
          "base_uri": "https://localhost:8080/",
          "height": 283
        },
        "id": "SeyrwhSPHccK",
        "outputId": "b9a3d2fd-574f-47c9-b615-d39ee986523c"
      },
      "execution_count": 5,
      "outputs": [
        {
          "output_type": "execute_result",
          "data": {
            "text/plain": [
              "<matplotlib.image.AxesImage at 0x7f7e901f8510>"
            ]
          },
          "metadata": {},
          "execution_count": 5
        },
        {
          "output_type": "display_data",
          "data": {
            "image/png": "[encoded data removed]",
            "text/plain": [
              "<Figure size 432x288 with 1 Axes>"
            ]
          },
          "metadata": {
            "needs_background": "light"
          }
        }
      ]
    },
    {
      "cell_type": "markdown",
      "source": [
        "PREPROCESS THE DATA"
      ],
      "metadata": {
        "id": "LzrvTg2QHkgE"
      }
    },
    {
      "cell_type": "code",
      "source": [
        "x_train=x_train.reshape(60000,784).astype('float32')\n",
        "x_valid=x_valid.reshape(10000,784).astype('float32')"
      ],
      "metadata": {
        "id": "dsg6FR3yHg1K"
      },
      "execution_count": 6,
      "outputs": []
    },
    {
      "cell_type": "code",
      "source": [
        "x_train/=255\n",
        "x_valid/=255"
      ],
      "metadata": {
        "id": "mvoeyL7xHn-E"
      },
      "execution_count": 7,
      "outputs": []
    },
    {
      "cell_type": "code",
      "source": [
        "x_train[0]"
      ],
      "metadata": {
        "colab": {
          "base_uri": "https://localhost:8080/"
        },
        "id": "FaGgykmCHpmS",
        "outputId": "9ab1b619-d2fb-4369-f1c9-caf8f97a3b93"
      },
      "execution_count": 8,
      "outputs": [
        {
          "output_type": "execute_result",
          "data": {
            "text/plain": [
              "array([0.        , 0.        , 0.        , 0.        , 0.        ,\n",
              "       0.        , 0.        , 0.        , 0.        , 0.        ,\n",
              "       0.        , 0.        , 0.        , 0.        , 0.        ,\n",
              "       0.        , 0.        , 0.        , 0.        , 0.        ,\n",
              "       0.        , 0.        , 0.        , 0.        , 0.        ,\n",
              "       0.        , 0.        , 0.        , 0.        , 0.        ,\n",
              "       0.        , 0.        , 0.        , 0.        , 0.        ,\n",
              "       0.        , 0.        , 0.        , 0.        , 0.        ,\n",
              "       0.        , 0.        , 0.        , 0.        , 0.        ,\n",
              "       0.        , 0.        , 0.        , 0.        , 0.        ,\n",
              "       0.        , 0.        , 0.        , 0.        , 0.        ,\n",
              "       0.        , 0.        , 0.        , 0.        , 0.        ,\n",
              "       0.        , 0.        , 0.        , 0.        , 0.        ,\n",
              "       0.        , 0.        , 0.        , 0.        , 0.        ,\n",
              "       0.        , 0.        , 0.        , 0.        , 0.        ,\n",
              "       0.        , 0.        , 0.        , 0.        , 0.        ,\n",
              "       0.        , 0.        , 0.        , 0.        , 0.        ,\n",
              "       0.        , 0.        , 0.        , 0.        , 0.        ,\n",
              "       0.        , 0.        , 0.        , 0.        , 0.        ,\n",
              "       0.        , 0.        , 0.        , 0.        , 0.        ,\n",
              "       0.        , 0.        , 0.        , 0.        , 0.        ,\n",
              "       0.        , 0.        , 0.        , 0.        , 0.        ,\n",
              "       0.        , 0.        , 0.        , 0.        , 0.        ,\n",
              "       0.        , 0.        , 0.        , 0.        , 0.        ,\n",
              "       0.        , 0.        , 0.        , 0.        , 0.        ,\n",
              "       0.        , 0.        , 0.        , 0.        , 0.        ,\n",
              "       0.        , 0.        , 0.        , 0.        , 0.        ,\n",
              "       0.        , 0.        , 0.        , 0.        , 0.        ,\n",
              "       0.        , 0.        , 0.        , 0.        , 0.        ,\n",
              "       0.        , 0.        , 0.        , 0.        , 0.        ,\n",
              "       0.        , 0.        , 0.01176471, 0.07058824, 0.07058824,\n",
              "       0.07058824, 0.49411765, 0.53333336, 0.6862745 , 0.10196079,\n",
              "       0.6509804 , 1.        , 0.96862745, 0.49803922, 0.        ,\n",
              "       0.        , 0.        , 0.        , 0.        , 0.        ,\n",
              "       0.        , 0.        , 0.        , 0.        , 0.        ,\n",
              "       0.        , 0.11764706, 0.14117648, 0.36862746, 0.6039216 ,\n",
              "       0.6666667 , 0.99215686, 0.99215686, 0.99215686, 0.99215686,\n",
              "       0.99215686, 0.88235295, 0.6745098 , 0.99215686, 0.9490196 ,\n",
              "       0.7647059 , 0.2509804 , 0.        , 0.        , 0.        ,\n",
              "       0.        , 0.        , 0.        , 0.        , 0.        ,\n",
              "       0.        , 0.        , 0.        , 0.19215687, 0.93333334,\n",
              "       0.99215686, 0.99215686, 0.99215686, 0.99215686, 0.99215686,\n",
              "       0.99215686, 0.99215686, 0.99215686, 0.9843137 , 0.3647059 ,\n",
              "       0.32156864, 0.32156864, 0.21960784, 0.15294118, 0.        ,\n",
              "       0.        , 0.        , 0.        , 0.        , 0.        ,\n",
              "       0.        , 0.        , 0.        , 0.        , 0.        ,\n",
              "       0.        , 0.07058824, 0.85882354, 0.99215686, 0.99215686,\n",
              "       0.99215686, 0.99215686, 0.99215686, 0.7764706 , 0.7137255 ,\n",
              "       0.96862745, 0.94509804, 0.        , 0.        , 0.        ,\n",
              "       0.        , 0.        , 0.        , 0.        , 0.        ,\n",
              "       0.        , 0.        , 0.        , 0.        , 0.        ,\n",
              "       0.        , 0.        , 0.        , 0.        , 0.        ,\n",
              "       0.3137255 , 0.6117647 , 0.41960785, 0.99215686, 0.99215686,\n",
              "       0.8039216 , 0.04313726, 0.        , 0.16862746, 0.6039216 ,\n",
              "       0.        , 0.        , 0.        , 0.        , 0.        ,\n",
              "       0.        , 0.        , 0.        , 0.        , 0.        ,\n",
              "       0.        , 0.        , 0.        , 0.        , 0.        ,\n",
              "       0.        , 0.        , 0.        , 0.        , 0.05490196,\n",
              "       0.00392157, 0.6039216 , 0.99215686, 0.3529412 , 0.        ,\n",
              "       0.        , 0.        , 0.        , 0.        , 0.        ,\n",
              "       0.        , 0.        , 0.        , 0.        , 0.        ,\n",
              "       0.        , 0.        , 0.        , 0.        , 0.        ,\n",
              "       0.        , 0.        , 0.        , 0.        , 0.        ,\n",
              "       0.        , 0.        , 0.        , 0.        , 0.54509807,\n",
              "       0.99215686, 0.74509805, 0.00784314, 0.        , 0.        ,\n",
              "       0.        , 0.        , 0.        , 0.        , 0.        ,\n",
              "       0.        , 0.        , 0.        , 0.        , 0.        ,\n",
              "       0.        , 0.        , 0.        , 0.        , 0.        ,\n",
              "       0.        , 0.        , 0.        , 0.        , 0.        ,\n",
              "       0.        , 0.        , 0.04313726, 0.74509805, 0.99215686,\n",
              "       0.27450982, 0.        , 0.        , 0.        , 0.        ,\n",
              "       0.        , 0.        , 0.        , 0.        , 0.        ,\n",
              "       0.        , 0.        , 0.        , 0.        , 0.        ,\n",
              "       0.        , 0.        , 0.        , 0.        , 0.        ,\n",
              "       0.        , 0.        , 0.        , 0.        , 0.        ,\n",
              "       0.        , 0.13725491, 0.94509804, 0.88235295, 0.627451  ,\n",
              "       0.42352942, 0.00392157, 0.        , 0.        , 0.        ,\n",
              "       0.        , 0.        , 0.        , 0.        , 0.        ,\n",
              "       0.        , 0.        , 0.        , 0.        , 0.        ,\n",
              "       0.        , 0.        , 0.        , 0.        , 0.        ,\n",
              "       0.        , 0.        , 0.        , 0.        , 0.        ,\n",
              "       0.31764707, 0.9411765 , 0.99215686, 0.99215686, 0.46666667,\n",
              "       0.09803922, 0.        , 0.        , 0.        , 0.        ,\n",
              "       0.        , 0.        , 0.        , 0.        , 0.        ,\n",
              "       0.        , 0.        , 0.        , 0.        , 0.        ,\n",
              "       0.        , 0.        , 0.        , 0.        , 0.        ,\n",
              "       0.        , 0.        , 0.        , 0.        , 0.1764706 ,\n",
              "       0.7294118 , 0.99215686, 0.99215686, 0.5882353 , 0.10588235,\n",
              "       0.        , 0.        , 0.        , 0.        , 0.        ,\n",
              "       0.        , 0.        , 0.        , 0.        , 0.        ,\n",
              "       0.        , 0.        , 0.        , 0.        , 0.        ,\n",
              "       0.        , 0.        , 0.        , 0.        , 0.        ,\n",
              "       0.        , 0.        , 0.        , 0.0627451 , 0.3647059 ,\n",
              "       0.9882353 , 0.99215686, 0.73333335, 0.        , 0.        ,\n",
              "       0.        , 0.        , 0.        , 0.        , 0.        ,\n",
              "       0.        , 0.        , 0.        , 0.        , 0.        ,\n",
              "       0.        , 0.        , 0.        , 0.        , 0.        ,\n",
              "       0.        , 0.        , 0.        , 0.        , 0.        ,\n",
              "       0.        , 0.        , 0.        , 0.9764706 , 0.99215686,\n",
              "       0.9764706 , 0.2509804 , 0.        , 0.        , 0.        ,\n",
              "       0.        , 0.        , 0.        , 0.        , 0.        ,\n",
              "       0.        , 0.        , 0.        , 0.        , 0.        ,\n",
              "       0.        , 0.        , 0.        , 0.        , 0.        ,\n",
              "       0.        , 0.        , 0.        , 0.18039216, 0.50980395,\n",
              "       0.7176471 , 0.99215686, 0.99215686, 0.8117647 , 0.00784314,\n",
              "       0.        , 0.        , 0.        , 0.        , 0.        ,\n",
              "       0.        , 0.        , 0.        , 0.        , 0.        ,\n",
              "       0.        , 0.        , 0.        , 0.        , 0.        ,\n",
              "       0.        , 0.        , 0.        , 0.        , 0.15294118,\n",
              "       0.5803922 , 0.8980392 , 0.99215686, 0.99215686, 0.99215686,\n",
              "       0.98039216, 0.7137255 , 0.        , 0.        , 0.        ,\n",
              "       0.        , 0.        , 0.        , 0.        , 0.        ,\n",
              "       0.        , 0.        , 0.        , 0.        , 0.        ,\n",
              "       0.        , 0.        , 0.        , 0.        , 0.        ,\n",
              "       0.09411765, 0.44705883, 0.8666667 , 0.99215686, 0.99215686,\n",
              "       0.99215686, 0.99215686, 0.7882353 , 0.30588236, 0.        ,\n",
              "       0.        , 0.        , 0.        , 0.        , 0.        ,\n",
              "       0.        , 0.        , 0.        , 0.        , 0.        ,\n",
              "       0.        , 0.        , 0.        , 0.        , 0.        ,\n",
              "       0.        , 0.09019608, 0.25882354, 0.8352941 , 0.99215686,\n",
              "       0.99215686, 0.99215686, 0.99215686, 0.7764706 , 0.31764707,\n",
              "       0.00784314, 0.        , 0.        , 0.        , 0.        ,\n",
              "       0.        , 0.        , 0.        , 0.        , 0.        ,\n",
              "       0.        , 0.        , 0.        , 0.        , 0.        ,\n",
              "       0.        , 0.        , 0.07058824, 0.67058825, 0.85882354,\n",
              "       0.99215686, 0.99215686, 0.99215686, 0.99215686, 0.7647059 ,\n",
              "       0.3137255 , 0.03529412, 0.        , 0.        , 0.        ,\n",
              "       0.        , 0.        , 0.        , 0.        , 0.        ,\n",
              "       0.        , 0.        , 0.        , 0.        , 0.        ,\n",
              "       0.        , 0.        , 0.        , 0.21568628, 0.6745098 ,\n",
              "       0.8862745 , 0.99215686, 0.99215686, 0.99215686, 0.99215686,\n",
              "       0.95686275, 0.52156866, 0.04313726, 0.        , 0.        ,\n",
              "       0.        , 0.        , 0.        , 0.        , 0.        ,\n",
              "       0.        , 0.        , 0.        , 0.        , 0.        ,\n",
              "       0.        , 0.        , 0.        , 0.        , 0.        ,\n",
              "       0.        , 0.53333336, 0.99215686, 0.99215686, 0.99215686,\n",
              "       0.83137256, 0.5294118 , 0.5176471 , 0.0627451 , 0.        ,\n",
              "       0.        , 0.        , 0.        , 0.        , 0.        ,\n",
              "       0.        , 0.        , 0.        , 0.        , 0.        ,\n",
              "       0.        , 0.        , 0.        , 0.        , 0.        ,\n",
              "       0.        , 0.        , 0.        , 0.        , 0.        ,\n",
              "       0.        , 0.        , 0.        , 0.        , 0.        ,\n",
              "       0.        , 0.        , 0.        , 0.        , 0.        ,\n",
              "       0.        , 0.        , 0.        , 0.        , 0.        ,\n",
              "       0.        , 0.        , 0.        , 0.        , 0.        ,\n",
              "       0.        , 0.        , 0.        , 0.        , 0.        ,\n",
              "       0.        , 0.        , 0.        , 0.        , 0.        ,\n",
              "       0.        , 0.        , 0.        , 0.        , 0.        ,\n",
              "       0.        , 0.        , 0.        , 0.        , 0.        ,\n",
              "       0.        , 0.        , 0.        , 0.        , 0.        ,\n",
              "       0.        , 0.        , 0.        , 0.        , 0.        ,\n",
              "       0.        , 0.        , 0.        , 0.        , 0.        ,\n",
              "       0.        , 0.        , 0.        , 0.        , 0.        ,\n",
              "       0.        , 0.        , 0.        , 0.        , 0.        ,\n",
              "       0.        , 0.        , 0.        , 0.        , 0.        ,\n",
              "       0.        , 0.        , 0.        , 0.        , 0.        ,\n",
              "       0.        , 0.        , 0.        , 0.        ], dtype=float32)"
            ]
          },
          "metadata": {},
          "execution_count": 8
        }
      ]
    },
    {
      "cell_type": "code",
      "source": [
        "from keras import utils as np_utils\n",
        "n_classes=10\n",
        "\n",
        "y_train=keras.utils.np_utils.to_categorical(y_train,n_classes)\n",
        "y_valid=keras.utils.np_utils.to_categorical(y_valid,n_classes)"
      ],
      "metadata": {
        "id": "bKBxGBO9Hs9l"
      },
      "execution_count": 9,
      "outputs": []
    },
    {
      "cell_type": "code",
      "source": [
        "y_valid[0]"
      ],
      "metadata": {
        "colab": {
          "base_uri": "https://localhost:8080/"
        },
        "id": "71OvGV4THwj-",
        "outputId": "09d30a82-5836-4d10-ac5f-08393830f070"
      },
      "execution_count": 10,
      "outputs": [
        {
          "output_type": "execute_result",
          "data": {
            "text/plain": [
              "array([0., 0., 0., 0., 0., 0., 0., 1., 0., 0.], dtype=float32)"
            ]
          },
          "metadata": {},
          "execution_count": 10
        }
      ]
    },
    {
      "cell_type": "markdown",
      "source": [
        "MODEL BUILDING"
      ],
      "metadata": {
        "id": "NGmxIhoVH0dS"
      }
    },
    {
      "cell_type": "code",
      "source": [
        "model=Sequential()"
      ],
      "metadata": {
        "id": "fKNxR_t7HynU"
      },
      "execution_count": 11,
      "outputs": []
    },
    {
      "cell_type": "code",
      "source": [
        "model.add(Dense(64,activation='sigmoid',input_shape=(784,)))\n",
        "model.add(Dense(10,activation='softmax'))\n",
        "model.summary()"
      ],
      "metadata": {
        "colab": {
          "base_uri": "https://localhost:8080/"
        },
        "id": "4aBzi7rYH5Z7",
        "outputId": "d8d5d760-ef9d-46aa-e50c-7752651b8fd8"
      },
      "execution_count": 12,
      "outputs": [
        {
          "output_type": "stream",
          "name": "stdout",
          "text": [
            "Model: \"sequential\"\n",
            "_________________________________________________________________\n",
            " Layer (type)                Output Shape              Param #   \n",
            "=================================================================\n",
            " dense (Dense)               (None, 64)                50240     \n",
            "                                                                 \n",
            " dense_1 (Dense)             (None, 10)                650       \n",
            "                                                                 \n",
            "=================================================================\n",
            "Total params: 50,890\n",
            "Trainable params: 50,890\n",
            "Non-trainable params: 0\n",
            "_________________________________________________________________\n"
          ]
        }
      ]
    },
    {
      "cell_type": "markdown",
      "source": [
        "COMPILE THE NETWORK"
      ],
      "metadata": {
        "id": "2lKyAk8GIDQy"
      }
    },
    {
      "cell_type": "code",
      "source": [
        "model.compile(loss='mean_squared_error',optimizer=SGD(learning_rate=0.01),metrics=['accuracy'])"
      ],
      "metadata": {
        "id": "263Lp9iTH_W8"
      },
      "execution_count": 13,
      "outputs": []
    },
    {
      "cell_type": "code",
      "source": [
        "history=model.fit(x_train,y_train,batch_size=128,epochs=150,verbose=1)"
      ],
      "metadata": {
        "colab": {
          "base_uri": "https://localhost:8080/"
        },
        "id": "zI2qaBhNIHyF",
        "outputId": "ab1717cb-471a-4abe-fce7-0041f0de176f"
      },
      "execution_count": 14,
      "outputs": [
        {
          "output_type": "stream",
          "name": "stdout",
          "text": [
            "Epoch 1/150\n",
            "469/469 [==============================] - 3s 3ms/step - loss: 0.0922 - accuracy: 0.1048\n",
            "Epoch 2/150\n",
            "469/469 [==============================] - 1s 3ms/step - loss: 0.0913 - accuracy: 0.0996\n",
            "Epoch 3/150\n",
            "469/469 [==============================] - 1s 3ms/step - loss: 0.0907 - accuracy: 0.0991\n",
            "Epoch 4/150\n",
            "469/469 [==============================] - 1s 3ms/step - loss: 0.0903 - accuracy: 0.1135\n",
            "Epoch 5/150\n",
            "469/469 [==============================] - 1s 3ms/step - loss: 0.0898 - accuracy: 0.1364\n",
            "Epoch 6/150\n",
            "469/469 [==============================] - 1s 3ms/step - loss: 0.0894 - accuracy: 0.1678\n",
            "Epoch 7/150\n",
            "469/469 [==============================] - 1s 3ms/step - loss: 0.0891 - accuracy: 0.2048\n",
            "Epoch 8/150\n",
            "469/469 [==============================] - 1s 3ms/step - loss: 0.0887 - accuracy: 0.2438\n",
            "Epoch 9/150\n",
            "469/469 [==============================] - 1s 3ms/step - loss: 0.0884 - accuracy: 0.2736\n",
            "Epoch 10/150\n",
            "469/469 [==============================] - 1s 3ms/step - loss: 0.0880 - accuracy: 0.2992\n",
            "Epoch 11/150\n",
            "469/469 [==============================] - 1s 3ms/step - loss: 0.0877 - accuracy: 0.3198\n",
            "Epoch 12/150\n",
            "469/469 [==============================] - 1s 3ms/step - loss: 0.0874 - accuracy: 0.3344\n",
            "Epoch 13/150\n",
            "469/469 [==============================] - 1s 3ms/step - loss: 0.0871 - accuracy: 0.3462\n",
            "Epoch 14/150\n",
            "469/469 [==============================] - 1s 3ms/step - loss: 0.0867 - accuracy: 0.3539\n",
            "Epoch 15/150\n",
            "469/469 [==============================] - 1s 3ms/step - loss: 0.0864 - accuracy: 0.3603\n",
            "Epoch 16/150\n",
            "469/469 [==============================] - 1s 3ms/step - loss: 0.0861 - accuracy: 0.3642\n",
            "Epoch 17/150\n",
            "469/469 [==============================] - 1s 3ms/step - loss: 0.0857 - accuracy: 0.3672\n",
            "Epoch 18/150\n",
            "469/469 [==============================] - 1s 3ms/step - loss: 0.0854 - accuracy: 0.3693\n",
            "Epoch 19/150\n",
            "469/469 [==============================] - 1s 3ms/step - loss: 0.0850 - accuracy: 0.3709\n",
            "Epoch 20/150\n",
            "469/469 [==============================] - 1s 3ms/step - loss: 0.0847 - accuracy: 0.3713\n",
            "Epoch 21/150\n",
            "469/469 [==============================] - 1s 3ms/step - loss: 0.0843 - accuracy: 0.3734\n",
            "Epoch 22/150\n",
            "469/469 [==============================] - 1s 3ms/step - loss: 0.0839 - accuracy: 0.3746\n",
            "Epoch 23/150\n",
            "469/469 [==============================] - 1s 3ms/step - loss: 0.0835 - accuracy: 0.3767\n",
            "Epoch 24/150\n",
            "469/469 [==============================] - 1s 3ms/step - loss: 0.0831 - accuracy: 0.3770\n",
            "Epoch 25/150\n",
            "469/469 [==============================] - 1s 3ms/step - loss: 0.0827 - accuracy: 0.3792\n",
            "Epoch 26/150\n",
            "469/469 [==============================] - 1s 3ms/step - loss: 0.0822 - accuracy: 0.3804\n",
            "Epoch 27/150\n",
            "469/469 [==============================] - 2s 4ms/step - loss: 0.0818 - accuracy: 0.3826\n",
            "Epoch 28/150\n",
            "469/469 [==============================] - 1s 3ms/step - loss: 0.0814 - accuracy: 0.3857\n",
            "Epoch 29/150\n",
            "469/469 [==============================] - 1s 3ms/step - loss: 0.0809 - accuracy: 0.3893\n",
            "Epoch 30/150\n",
            "469/469 [==============================] - 1s 3ms/step - loss: 0.0805 - accuracy: 0.3919\n",
            "Epoch 31/150\n",
            "469/469 [==============================] - 1s 3ms/step - loss: 0.0800 - accuracy: 0.3962\n",
            "Epoch 32/150\n",
            "469/469 [==============================] - 1s 3ms/step - loss: 0.0795 - accuracy: 0.3990\n",
            "Epoch 33/150\n",
            "469/469 [==============================] - 1s 3ms/step - loss: 0.0790 - accuracy: 0.4032\n",
            "Epoch 34/150\n",
            "469/469 [==============================] - 1s 3ms/step - loss: 0.0785 - accuracy: 0.4080\n",
            "Epoch 35/150\n",
            "469/469 [==============================] - 1s 3ms/step - loss: 0.0781 - accuracy: 0.4120\n",
            "Epoch 36/150\n",
            "469/469 [==============================] - 1s 3ms/step - loss: 0.0776 - accuracy: 0.4166\n",
            "Epoch 37/150\n",
            "469/469 [==============================] - 1s 3ms/step - loss: 0.0771 - accuracy: 0.4227\n",
            "Epoch 38/150\n",
            "469/469 [==============================] - 1s 3ms/step - loss: 0.0766 - accuracy: 0.4277\n",
            "Epoch 39/150\n",
            "469/469 [==============================] - 1s 3ms/step - loss: 0.0761 - accuracy: 0.4327\n",
            "Epoch 40/150\n",
            "469/469 [==============================] - 1s 3ms/step - loss: 0.0756 - accuracy: 0.4383\n",
            "Epoch 41/150\n",
            "469/469 [==============================] - 1s 3ms/step - loss: 0.0750 - accuracy: 0.4434\n",
            "Epoch 42/150\n",
            "469/469 [==============================] - 1s 3ms/step - loss: 0.0745 - accuracy: 0.4492\n",
            "Epoch 43/150\n",
            "469/469 [==============================] - 1s 3ms/step - loss: 0.0740 - accuracy: 0.4544\n",
            "Epoch 44/150\n",
            "469/469 [==============================] - 1s 3ms/step - loss: 0.0735 - accuracy: 0.4608\n",
            "Epoch 45/150\n",
            "469/469 [==============================] - 1s 3ms/step - loss: 0.0730 - accuracy: 0.4655\n",
            "Epoch 46/150\n",
            "469/469 [==============================] - 1s 3ms/step - loss: 0.0725 - accuracy: 0.4708\n",
            "Epoch 47/150\n",
            "469/469 [==============================] - 1s 3ms/step - loss: 0.0720 - accuracy: 0.4769\n",
            "Epoch 48/150\n",
            "469/469 [==============================] - 1s 3ms/step - loss: 0.0715 - accuracy: 0.4825\n",
            "Epoch 49/150\n",
            "469/469 [==============================] - 1s 3ms/step - loss: 0.0710 - accuracy: 0.4890\n",
            "Epoch 50/150\n",
            "469/469 [==============================] - 1s 3ms/step - loss: 0.0705 - accuracy: 0.4949\n",
            "Epoch 51/150\n",
            "469/469 [==============================] - 1s 3ms/step - loss: 0.0700 - accuracy: 0.5011\n",
            "Epoch 52/150\n",
            "469/469 [==============================] - 1s 3ms/step - loss: 0.0695 - accuracy: 0.5067\n",
            "Epoch 53/150\n",
            "469/469 [==============================] - 1s 3ms/step - loss: 0.0690 - accuracy: 0.5131\n",
            "Epoch 54/150\n",
            "469/469 [==============================] - 1s 3ms/step - loss: 0.0685 - accuracy: 0.5195\n",
            "Epoch 55/150\n",
            "469/469 [==============================] - 1s 3ms/step - loss: 0.0681 - accuracy: 0.5256\n",
            "Epoch 56/150\n",
            "469/469 [==============================] - 1s 3ms/step - loss: 0.0676 - accuracy: 0.5307\n",
            "Epoch 57/150\n",
            "469/469 [==============================] - 1s 2ms/step - loss: 0.0671 - accuracy: 0.5362\n",
            "Epoch 58/150\n",
            "469/469 [==============================] - 1s 3ms/step - loss: 0.0666 - accuracy: 0.5417\n",
            "Epoch 59/150\n",
            "469/469 [==============================] - 1s 3ms/step - loss: 0.0662 - accuracy: 0.5483\n",
            "Epoch 60/150\n",
            "469/469 [==============================] - 1s 3ms/step - loss: 0.0657 - accuracy: 0.5532\n",
            "Epoch 61/150\n",
            "469/469 [==============================] - 1s 3ms/step - loss: 0.0652 - accuracy: 0.5582\n",
            "Epoch 62/150\n",
            "469/469 [==============================] - 1s 3ms/step - loss: 0.0648 - accuracy: 0.5638\n",
            "Epoch 63/150\n",
            "469/469 [==============================] - 1s 3ms/step - loss: 0.0643 - accuracy: 0.5681\n",
            "Epoch 64/150\n",
            "469/469 [==============================] - 1s 3ms/step - loss: 0.0638 - accuracy: 0.5731\n",
            "Epoch 65/150\n",
            "469/469 [==============================] - 1s 2ms/step - loss: 0.0634 - accuracy: 0.5775\n",
            "Epoch 66/150\n",
            "469/469 [==============================] - 1s 3ms/step - loss: 0.0629 - accuracy: 0.5818\n",
            "Epoch 67/150\n",
            "469/469 [==============================] - 1s 3ms/step - loss: 0.0625 - accuracy: 0.5864\n",
            "Epoch 68/150\n",
            "469/469 [==============================] - 1s 3ms/step - loss: 0.0620 - accuracy: 0.5911\n",
            "Epoch 69/150\n",
            "469/469 [==============================] - 1s 3ms/step - loss: 0.0616 - accuracy: 0.5950\n",
            "Epoch 70/150\n",
            "469/469 [==============================] - 1s 3ms/step - loss: 0.0612 - accuracy: 0.5980\n",
            "Epoch 71/150\n",
            "469/469 [==============================] - 1s 3ms/step - loss: 0.0607 - accuracy: 0.6018\n",
            "Epoch 72/150\n",
            "469/469 [==============================] - 1s 3ms/step - loss: 0.0603 - accuracy: 0.6050\n",
            "Epoch 73/150\n",
            "469/469 [==============================] - 1s 3ms/step - loss: 0.0599 - accuracy: 0.6082\n",
            "Epoch 74/150\n",
            "469/469 [==============================] - 1s 3ms/step - loss: 0.0594 - accuracy: 0.6113\n",
            "Epoch 75/150\n",
            "469/469 [==============================] - 1s 3ms/step - loss: 0.0590 - accuracy: 0.6143\n",
            "Epoch 76/150\n",
            "469/469 [==============================] - 1s 3ms/step - loss: 0.0586 - accuracy: 0.6170\n",
            "Epoch 77/150\n",
            "469/469 [==============================] - 1s 3ms/step - loss: 0.0582 - accuracy: 0.6201\n",
            "Epoch 78/150\n",
            "469/469 [==============================] - 1s 3ms/step - loss: 0.0578 - accuracy: 0.6232\n",
            "Epoch 79/150\n",
            "469/469 [==============================] - 1s 3ms/step - loss: 0.0574 - accuracy: 0.6258\n",
            "Epoch 80/150\n",
            "469/469 [==============================] - 1s 3ms/step - loss: 0.0570 - accuracy: 0.6283\n",
            "Epoch 81/150\n",
            "469/469 [==============================] - 1s 3ms/step - loss: 0.0566 - accuracy: 0.6319\n",
            "Epoch 82/150\n",
            "469/469 [==============================] - 1s 3ms/step - loss: 0.0562 - accuracy: 0.6346\n",
            "Epoch 83/150\n",
            "469/469 [==============================] - 1s 3ms/step - loss: 0.0558 - accuracy: 0.6371\n",
            "Epoch 84/150\n",
            "469/469 [==============================] - 1s 3ms/step - loss: 0.0554 - accuracy: 0.6397\n",
            "Epoch 85/150\n",
            "469/469 [==============================] - 1s 3ms/step - loss: 0.0550 - accuracy: 0.6425\n",
            "Epoch 86/150\n",
            "469/469 [==============================] - 1s 3ms/step - loss: 0.0546 - accuracy: 0.6454\n",
            "Epoch 87/150\n",
            "469/469 [==============================] - 1s 3ms/step - loss: 0.0542 - accuracy: 0.6486\n",
            "Epoch 88/150\n",
            "469/469 [==============================] - 1s 3ms/step - loss: 0.0538 - accuracy: 0.6513\n",
            "Epoch 89/150\n",
            "469/469 [==============================] - 1s 3ms/step - loss: 0.0535 - accuracy: 0.6546\n",
            "Epoch 90/150\n",
            "469/469 [==============================] - 1s 3ms/step - loss: 0.0531 - accuracy: 0.6580\n",
            "Epoch 91/150\n",
            "469/469 [==============================] - 1s 3ms/step - loss: 0.0527 - accuracy: 0.6614\n",
            "Epoch 92/150\n",
            "469/469 [==============================] - 1s 3ms/step - loss: 0.0524 - accuracy: 0.6650\n",
            "Epoch 93/150\n",
            "469/469 [==============================] - 1s 3ms/step - loss: 0.0520 - accuracy: 0.6685\n",
            "Epoch 94/150\n",
            "469/469 [==============================] - 1s 3ms/step - loss: 0.0516 - accuracy: 0.6725\n",
            "Epoch 95/150\n",
            "469/469 [==============================] - 1s 3ms/step - loss: 0.0513 - accuracy: 0.6760\n",
            "Epoch 96/150\n",
            "469/469 [==============================] - 1s 3ms/step - loss: 0.0509 - accuracy: 0.6796\n",
            "Epoch 97/150\n",
            "469/469 [==============================] - 1s 3ms/step - loss: 0.0506 - accuracy: 0.6835\n",
            "Epoch 98/150\n",
            "469/469 [==============================] - 1s 3ms/step - loss: 0.0502 - accuracy: 0.6874\n",
            "Epoch 99/150\n",
            "469/469 [==============================] - 1s 3ms/step - loss: 0.0499 - accuracy: 0.6913\n",
            "Epoch 100/150\n",
            "469/469 [==============================] - 2s 3ms/step - loss: 0.0495 - accuracy: 0.6947\n",
            "Epoch 101/150\n",
            "469/469 [==============================] - 1s 3ms/step - loss: 0.0492 - accuracy: 0.6984\n",
            "Epoch 102/150\n",
            "469/469 [==============================] - 1s 3ms/step - loss: 0.0489 - accuracy: 0.7019\n",
            "Epoch 103/150\n",
            "469/469 [==============================] - 1s 3ms/step - loss: 0.0486 - accuracy: 0.7064\n",
            "Epoch 104/150\n",
            "469/469 [==============================] - 1s 3ms/step - loss: 0.0482 - accuracy: 0.7104\n",
            "Epoch 105/150\n",
            "469/469 [==============================] - 1s 3ms/step - loss: 0.0479 - accuracy: 0.7142\n",
            "Epoch 106/150\n",
            "469/469 [==============================] - 1s 3ms/step - loss: 0.0476 - accuracy: 0.7182\n",
            "Epoch 107/150\n",
            "469/469 [==============================] - 1s 3ms/step - loss: 0.0473 - accuracy: 0.7222\n",
            "Epoch 108/150\n",
            "469/469 [==============================] - 1s 3ms/step - loss: 0.0469 - accuracy: 0.7264\n",
            "Epoch 109/150\n",
            "469/469 [==============================] - 1s 3ms/step - loss: 0.0466 - accuracy: 0.7307\n",
            "Epoch 110/150\n",
            "469/469 [==============================] - 1s 3ms/step - loss: 0.0463 - accuracy: 0.7341\n",
            "Epoch 111/150\n",
            "469/469 [==============================] - 1s 3ms/step - loss: 0.0460 - accuracy: 0.7382\n",
            "Epoch 112/150\n",
            "469/469 [==============================] - 1s 3ms/step - loss: 0.0457 - accuracy: 0.7421\n",
            "Epoch 113/150\n",
            "469/469 [==============================] - 1s 3ms/step - loss: 0.0454 - accuracy: 0.7462\n",
            "Epoch 114/150\n",
            "469/469 [==============================] - 1s 3ms/step - loss: 0.0451 - accuracy: 0.7496\n",
            "Epoch 115/150\n",
            "469/469 [==============================] - 1s 3ms/step - loss: 0.0448 - accuracy: 0.7532\n",
            "Epoch 116/150\n",
            "469/469 [==============================] - 1s 3ms/step - loss: 0.0445 - accuracy: 0.7558\n",
            "Epoch 117/150\n",
            "469/469 [==============================] - 1s 3ms/step - loss: 0.0442 - accuracy: 0.7598\n",
            "Epoch 118/150\n",
            "469/469 [==============================] - 1s 3ms/step - loss: 0.0440 - accuracy: 0.7631\n",
            "Epoch 119/150\n",
            "469/469 [==============================] - 1s 3ms/step - loss: 0.0437 - accuracy: 0.7659\n",
            "Epoch 120/150\n",
            "469/469 [==============================] - 1s 3ms/step - loss: 0.0434 - accuracy: 0.7691\n",
            "Epoch 121/150\n",
            "469/469 [==============================] - 1s 3ms/step - loss: 0.0431 - accuracy: 0.7721\n",
            "Epoch 122/150\n",
            "469/469 [==============================] - 1s 3ms/step - loss: 0.0428 - accuracy: 0.7751\n",
            "Epoch 123/150\n",
            "469/469 [==============================] - 1s 3ms/step - loss: 0.0426 - accuracy: 0.7778\n",
            "Epoch 124/150\n",
            "469/469 [==============================] - 1s 3ms/step - loss: 0.0423 - accuracy: 0.7807\n",
            "Epoch 125/150\n",
            "469/469 [==============================] - 1s 3ms/step - loss: 0.0420 - accuracy: 0.7834\n",
            "Epoch 126/150\n",
            "469/469 [==============================] - 1s 3ms/step - loss: 0.0418 - accuracy: 0.7857\n",
            "Epoch 127/150\n",
            "469/469 [==============================] - 1s 3ms/step - loss: 0.0415 - accuracy: 0.7878\n",
            "Epoch 128/150\n",
            "469/469 [==============================] - 1s 3ms/step - loss: 0.0412 - accuracy: 0.7905\n",
            "Epoch 129/150\n",
            "469/469 [==============================] - 1s 3ms/step - loss: 0.0410 - accuracy: 0.7929\n",
            "Epoch 130/150\n",
            "469/469 [==============================] - 1s 3ms/step - loss: 0.0407 - accuracy: 0.7948\n",
            "Epoch 131/150\n",
            "469/469 [==============================] - 1s 3ms/step - loss: 0.0405 - accuracy: 0.7975\n",
            "Epoch 132/150\n",
            "469/469 [==============================] - 1s 3ms/step - loss: 0.0402 - accuracy: 0.7998\n",
            "Epoch 133/150\n",
            "469/469 [==============================] - 1s 3ms/step - loss: 0.0400 - accuracy: 0.8021\n",
            "Epoch 134/150\n",
            "469/469 [==============================] - 1s 3ms/step - loss: 0.0397 - accuracy: 0.8040\n",
            "Epoch 135/150\n",
            "469/469 [==============================] - 1s 3ms/step - loss: 0.0395 - accuracy: 0.8060\n",
            "Epoch 136/150\n",
            "469/469 [==============================] - 1s 3ms/step - loss: 0.0392 - accuracy: 0.8076\n",
            "Epoch 137/150\n",
            "469/469 [==============================] - 1s 3ms/step - loss: 0.0390 - accuracy: 0.8097\n",
            "Epoch 138/150\n",
            "469/469 [==============================] - 1s 3ms/step - loss: 0.0388 - accuracy: 0.8111\n",
            "Epoch 139/150\n",
            "469/469 [==============================] - 1s 3ms/step - loss: 0.0385 - accuracy: 0.8126\n",
            "Epoch 140/150\n",
            "469/469 [==============================] - 1s 3ms/step - loss: 0.0383 - accuracy: 0.8142\n",
            "Epoch 141/150\n",
            "469/469 [==============================] - 1s 3ms/step - loss: 0.0381 - accuracy: 0.8163\n",
            "Epoch 142/150\n",
            "469/469 [==============================] - 1s 3ms/step - loss: 0.0379 - accuracy: 0.8172\n",
            "Epoch 143/150\n",
            "469/469 [==============================] - 1s 3ms/step - loss: 0.0376 - accuracy: 0.8192\n",
            "Epoch 144/150\n",
            "469/469 [==============================] - 1s 3ms/step - loss: 0.0374 - accuracy: 0.8205\n",
            "Epoch 145/150\n",
            "469/469 [==============================] - 1s 3ms/step - loss: 0.0372 - accuracy: 0.8218\n",
            "Epoch 146/150\n",
            "469/469 [==============================] - 1s 3ms/step - loss: 0.0370 - accuracy: 0.8229\n",
            "Epoch 147/150\n",
            "469/469 [==============================] - 1s 3ms/step - loss: 0.0368 - accuracy: 0.8243\n",
            "Epoch 148/150\n",
            "469/469 [==============================] - 1s 3ms/step - loss: 0.0365 - accuracy: 0.8255\n",
            "Epoch 149/150\n",
            "469/469 [==============================] - 1s 3ms/step - loss: 0.0363 - accuracy: 0.8264\n",
            "Epoch 150/150\n",
            "469/469 [==============================] - 1s 3ms/step - loss: 0.0361 - accuracy: 0.8275\n"
          ]
        }
      ]
    },
    {
      "cell_type": "code",
      "source": [
        "plt.figure(figsize=(10,6))\n",
        "print(history.history.keys())\n",
        "# summarize history for accuracy\n",
        "plt.plot(history.history['accuracy'])\n",
        "\n",
        "plt.title('model accuracy')\n",
        "plt.ylabel('accuracy')\n",
        "plt.xlabel('epoch')\n",
        "plt.legend(['train', 'test'], loc='upper left')\n",
        "plt.show()"
      ],
      "metadata": {
        "colab": {
          "base_uri": "https://localhost:8080/",
          "height": 421
        },
        "id": "dRaOdcwfIKB7",
        "outputId": "eaf4a93c-4566-4829-92a5-bea908486289"
      },
      "execution_count": 15,
      "outputs": [
        {
          "output_type": "stream",
          "name": "stdout",
          "text": [
            "dict_keys(['loss', 'accuracy'])\n"
          ]
        },
        {
          "output_type": "display_data",
          "data": {
            "image/png": "[encoded data removed]",
            "text/plain": [
              "<Figure size 720x432 with 1 Axes>"
            ]
          },
          "metadata": {
            "needs_background": "light"
          }
        }
      ]
    },
    {
      "cell_type": "code",
      "source": [
        ""
      ],
      "metadata": {
        "id": "M_KFAwRmJHjY"
      },
      "execution_count": null,
      "outputs": []
    }
  ]
}